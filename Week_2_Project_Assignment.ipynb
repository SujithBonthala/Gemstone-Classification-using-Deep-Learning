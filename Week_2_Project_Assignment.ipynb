{
  "nbformat": 4,
  "nbformat_minor": 0,
  "metadata": {
    "colab": {
      "name": "Week-2 Project Assignment.ipynb",
      "provenance": [],
      "collapsed_sections": []
    },
    "kernelspec": {
      "name": "python3",
      "display_name": "Python 3"
    },
    "accelerator": "GPU"
  },
  "cells": [
    {
      "cell_type": "code",
      "metadata": {
        "colab": {
          "base_uri": "https://localhost:8080/"
        },
        "id": "2SknNEZDpY1E",
        "outputId": "035dc7ac-1b74-40e5-a5a1-cf4a07467ad9"
      },
      "source": [
        "! pip install --upgrade --force-reinstall --no-deps kaggle"
      ],
      "execution_count": null,
      "outputs": [
        {
          "output_type": "stream",
          "text": [
            "Collecting kaggle\n",
            "\u001b[?25l  Downloading https://files.pythonhosted.org/packages/99/33/365c0d13f07a2a54744d027fe20b60dacdfdfb33bc04746db6ad0b79340b/kaggle-1.5.10.tar.gz (59kB)\n",
            "\r\u001b[K     |█████▌                          | 10kB 22.7MB/s eta 0:00:01\r\u001b[K     |███████████                     | 20kB 30.1MB/s eta 0:00:01\r\u001b[K     |████████████████▋               | 30kB 24.2MB/s eta 0:00:01\r\u001b[K     |██████████████████████▏         | 40kB 21.7MB/s eta 0:00:01\r\u001b[K     |███████████████████████████▊    | 51kB 22.8MB/s eta 0:00:01\r\u001b[K     |████████████████████████████████| 61kB 8.0MB/s \n",
            "\u001b[?25hBuilding wheels for collected packages: kaggle\n",
            "  Building wheel for kaggle (setup.py) ... \u001b[?25l\u001b[?25hdone\n",
            "  Created wheel for kaggle: filename=kaggle-1.5.10-cp37-none-any.whl size=73269 sha256=2896fc7da4dd44810cc74db32fa49e8e559c9d258245621683a628f08fea6b3b\n",
            "  Stored in directory: /root/.cache/pip/wheels/3a/d1/7e/6ce09b72b770149802c653a02783821629146983ee5a360f10\n",
            "Successfully built kaggle\n",
            "Installing collected packages: kaggle\n",
            "  Found existing installation: kaggle 1.5.10\n",
            "    Uninstalling kaggle-1.5.10:\n",
            "      Successfully uninstalled kaggle-1.5.10\n",
            "Successfully installed kaggle-1.5.10\n"
          ],
          "name": "stdout"
        }
      ]
    },
    {
      "cell_type": "code",
      "metadata": {
        "colab": {
          "resources": {
            "http://localhost:8080/nbextensions/google.colab/files.js": {
              "data": "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",
              "ok": true,
              "headers": [
                [
                  "content-type",
                  "application/javascript"
                ]
              ],
              "status": 200,
              "status_text": ""
            }
          },
          "base_uri": "https://localhost:8080/",
          "height": 89
        },
        "id": "VfI9DSBMpqTi",
        "outputId": "e5a861d0-d42d-4f97-f1ef-62ffb379636d"
      },
      "source": [
        "from google.colab import files\n",
        "files.upload()"
      ],
      "execution_count": null,
      "outputs": [
        {
          "output_type": "display_data",
          "data": {
            "text/html": [
              "\n",
              "     <input type=\"file\" id=\"files-5aa140dd-cd7f-4401-98c7-7348588b74b6\" name=\"files[]\" multiple disabled\n",
              "        style=\"border:none\" />\n",
              "     <output id=\"result-5aa140dd-cd7f-4401-98c7-7348588b74b6\">\n",
              "      Upload widget is only available when the cell has been executed in the\n",
              "      current browser session. Please rerun this cell to enable.\n",
              "      </output>\n",
              "      <script src=\"/nbextensions/google.colab/files.js\"></script> "
            ],
            "text/plain": [
              "<IPython.core.display.HTML object>"
            ]
          },
          "metadata": {
            "tags": []
          }
        },
        {
          "output_type": "stream",
          "text": [
            "Saving kaggle.json to kaggle.json\n"
          ],
          "name": "stdout"
        },
        {
          "output_type": "execute_result",
          "data": {
            "text/plain": [
              "{'kaggle.json': b'{\"username\":\"sujithbonthala\",\"key\":\"ddaf4f49b1ddcbb4f5b359ec25a22c4d\"}'}"
            ]
          },
          "metadata": {
            "tags": []
          },
          "execution_count": 2
        }
      ]
    },
    {
      "cell_type": "code",
      "metadata": {
        "id": "H89dy26dpt_t"
      },
      "source": [
        "! mkdir ~/.kaggle\n",
        "! cp kaggle.json ~/.kaggle/"
      ],
      "execution_count": null,
      "outputs": []
    },
    {
      "cell_type": "code",
      "metadata": {
        "id": "_mdu5MTZpz6y"
      },
      "source": [
        "! chmod 600 ~/.kaggle/kaggle.json"
      ],
      "execution_count": null,
      "outputs": []
    },
    {
      "cell_type": "code",
      "metadata": {
        "id": "krSJkHwkp4L-"
      },
      "source": [
        "! kaggle datasets list"
      ],
      "execution_count": null,
      "outputs": []
    },
    {
      "cell_type": "code",
      "metadata": {
        "id": "MuTSNx6Vp9DR"
      },
      "source": [
        "! kaggle datasets download -d lsind18/gemstones-images"
      ],
      "execution_count": null,
      "outputs": []
    },
    {
      "cell_type": "code",
      "metadata": {
        "id": "mfd9E-wBqCJg"
      },
      "source": [
        "! unzip gemstones-images.zip -d dataset"
      ],
      "execution_count": null,
      "outputs": []
    },
    {
      "cell_type": "code",
      "metadata": {
        "id": "0Q3n00BVqFx5"
      },
      "source": [
        "import tensorflow as tf\n",
        "import matplotlib.pyplot as plt\n",
        "import numpy as np"
      ],
      "execution_count": null,
      "outputs": []
    },
    {
      "cell_type": "code",
      "metadata": {
        "id": "557CxOHcqPau"
      },
      "source": [
        "!mkdir -p dataset_small"
      ],
      "execution_count": null,
      "outputs": []
    },
    {
      "cell_type": "code",
      "metadata": {
        "id": "hCvaGllzr4XM"
      },
      "source": [
        "training_path = \"/content/dataset_small/train\"\n",
        "test_path = \"/content/dataset_small/test\""
      ],
      "execution_count": null,
      "outputs": []
    },
    {
      "cell_type": "code",
      "metadata": {
        "id": "1WYLAwgX5lR2"
      },
      "source": [
        "dataGen = tf.keras.preprocessing.image.ImageDataGenerator(\n",
        "    rescale = 1./255,\n",
        "    rotation_range=5,\n",
        "    horizontal_flip=True,\n",
        "    vertical_flip=True,\n",
        ")"
      ],
      "execution_count": null,
      "outputs": []
    },
    {
      "cell_type": "code",
      "metadata": {
        "colab": {
          "base_uri": "https://localhost:8080/"
        },
        "id": "dlJbeRm65vNj",
        "outputId": "914f79ec-0636-4b9a-dc18-f9e7df157b60"
      },
      "source": [
        "train_dataset_aug = dataGen.flow_from_directory(\n",
        "    training_path,\n",
        "    target_size = (200,200),\n",
        "    batch_size = 32,\n",
        "    shuffle=True,\n",
        "    seed = 865\n",
        ")"
      ],
      "execution_count": null,
      "outputs": [
        {
          "output_type": "stream",
          "text": [
            "Found 326 images belonging to 11 classes.\n"
          ],
          "name": "stdout"
        }
      ]
    },
    {
      "cell_type": "code",
      "metadata": {
        "colab": {
          "base_uri": "https://localhost:8080/"
        },
        "id": "BAEPKyHm5yPM",
        "outputId": "8adc237b-cab5-4ad2-ab02-716c25e51ea2"
      },
      "source": [
        "test_dataset_aug = dataGen.flow_from_directory(\n",
        "    test_path,\n",
        "    target_size = (200,200),\n",
        "    batch_size = 32,\n",
        "    shuffle=True,\n",
        "    seed = 865\n",
        ")"
      ],
      "execution_count": null,
      "outputs": [
        {
          "output_type": "stream",
          "text": [
            "Found 41 images belonging to 11 classes.\n"
          ],
          "name": "stdout"
        }
      ]
    },
    {
      "cell_type": "code",
      "metadata": {
        "id": "M18d6lag56r0"
      },
      "source": [
        "CNNmodel_aug = tf.keras.models.Sequential()\n",
        "\n",
        "# Feature extraction part\n",
        "CNNmodel_aug.add(tf.keras.layers.Conv2D(64, (3,3), activation='relu', input_shape=(200,200,3)))\n",
        "CNNmodel_aug.add(tf.keras.layers.MaxPooling2D((2,2)))\n",
        "CNNmodel_aug.add(tf.keras.layers.Conv2D(128, (3,3), activation='relu'))\n",
        "CNNmodel_aug.add(tf.keras.layers.MaxPooling2D((2,2)))\n",
        "CNNmodel_aug.add(tf.keras.layers.Conv2D(128,(3,3), activation='relu'))\n",
        "CNNmodel_aug.add(tf.keras.layers.MaxPooling2D((2,2)))\n",
        "CNNmodel_aug.add(tf.keras.layers.Conv2D(256,(3,3), activation='relu'))\n",
        "CNNmodel_aug.add(tf.keras.layers.MaxPooling2D((2,2)))\n",
        "CNNmodel_aug.add(tf.keras.layers.Conv2D(512,(3,3), activation='relu'))\n",
        "CNNmodel_aug.add(tf.keras.layers.MaxPooling2D((2,2)))\n",
        "CNNmodel_aug.add(tf.keras.layers.Conv2D(512,(3,3), activation='relu'))\n",
        "# Neural network - For classification\n",
        "CNNmodel_aug.add(tf.keras.layers.Flatten())\n",
        "CNNmodel_aug.add(tf.keras.layers.Dense(256, activation='relu'))\n",
        "CNNmodel_aug.add(tf.keras.layers.Dense(512, activation='relu'))\n",
        "CNNmodel_aug.add(tf.keras.layers.Dense(11, activation='softmax'))\n",
        "\n",
        "#Compile\n",
        "CNNmodel_aug.compile(optimizer = 'adam',\n",
        "                loss='categorical_crossentropy',metrics = ['accuracy'])"
      ],
      "execution_count": null,
      "outputs": []
    },
    {
      "cell_type": "code",
      "metadata": {
        "colab": {
          "base_uri": "https://localhost:8080/"
        },
        "id": "kvZsR5mR6IsU",
        "outputId": "884ea4a7-c70f-4f24-9239-7037d3c16ea9"
      },
      "source": [
        "history = CNNmodel_aug.fit(train_dataset_aug, validation_data=test_dataset_aug, epochs = 30)"
      ],
      "execution_count": null,
      "outputs": [
        {
          "output_type": "stream",
          "text": [
            "Epoch 1/30\n",
            "11/11 [==============================] - 6s 443ms/step - loss: 2.3925 - accuracy: 0.0841 - val_loss: 2.1290 - val_accuracy: 0.1220\n",
            "Epoch 2/30\n",
            "11/11 [==============================] - 4s 336ms/step - loss: 2.1194 - accuracy: 0.1867 - val_loss: 1.8056 - val_accuracy: 0.2683\n",
            "Epoch 3/30\n",
            "11/11 [==============================] - 4s 342ms/step - loss: 1.6171 - accuracy: 0.3793 - val_loss: 1.4331 - val_accuracy: 0.3902\n",
            "Epoch 4/30\n",
            "11/11 [==============================] - 4s 336ms/step - loss: 1.1542 - accuracy: 0.4629 - val_loss: 0.7225 - val_accuracy: 0.6829\n",
            "Epoch 5/30\n",
            "11/11 [==============================] - 4s 367ms/step - loss: 0.9038 - accuracy: 0.6106 - val_loss: 1.1968 - val_accuracy: 0.3902\n",
            "Epoch 6/30\n",
            "11/11 [==============================] - 4s 337ms/step - loss: 1.1229 - accuracy: 0.5645 - val_loss: 0.6408 - val_accuracy: 0.8049\n",
            "Epoch 7/30\n",
            "11/11 [==============================] - 4s 367ms/step - loss: 0.7279 - accuracy: 0.7191 - val_loss: 0.6310 - val_accuracy: 0.7317\n",
            "Epoch 8/30\n",
            "11/11 [==============================] - 4s 336ms/step - loss: 0.6462 - accuracy: 0.7438 - val_loss: 0.8678 - val_accuracy: 0.7317\n",
            "Epoch 9/30\n",
            "11/11 [==============================] - 4s 333ms/step - loss: 0.7803 - accuracy: 0.6666 - val_loss: 0.6102 - val_accuracy: 0.7317\n",
            "Epoch 10/30\n",
            "11/11 [==============================] - 4s 339ms/step - loss: 0.6308 - accuracy: 0.7204 - val_loss: 0.3709 - val_accuracy: 0.8780\n",
            "Epoch 11/30\n",
            "11/11 [==============================] - 4s 333ms/step - loss: 0.4737 - accuracy: 0.7968 - val_loss: 0.4101 - val_accuracy: 0.7561\n",
            "Epoch 12/30\n",
            "11/11 [==============================] - 4s 335ms/step - loss: 1.2789 - accuracy: 0.7178 - val_loss: 1.1086 - val_accuracy: 0.5610\n",
            "Epoch 13/30\n",
            "11/11 [==============================] - 4s 332ms/step - loss: 1.2099 - accuracy: 0.5680 - val_loss: 1.0169 - val_accuracy: 0.4878\n",
            "Epoch 14/30\n",
            "11/11 [==============================] - 4s 332ms/step - loss: 0.9526 - accuracy: 0.6053 - val_loss: 0.5186 - val_accuracy: 0.7561\n",
            "Epoch 15/30\n",
            "11/11 [==============================] - 4s 330ms/step - loss: 0.5518 - accuracy: 0.8057 - val_loss: 0.3131 - val_accuracy: 0.8293\n",
            "Epoch 16/30\n",
            "11/11 [==============================] - 4s 330ms/step - loss: 0.4936 - accuracy: 0.7858 - val_loss: 0.6510 - val_accuracy: 0.6829\n",
            "Epoch 17/30\n",
            "11/11 [==============================] - 4s 335ms/step - loss: 0.7302 - accuracy: 0.7214 - val_loss: 0.3163 - val_accuracy: 0.8537\n",
            "Epoch 18/30\n",
            "11/11 [==============================] - 4s 329ms/step - loss: 0.3989 - accuracy: 0.8248 - val_loss: 0.6850 - val_accuracy: 0.7317\n",
            "Epoch 19/30\n",
            "11/11 [==============================] - 4s 329ms/step - loss: 0.6004 - accuracy: 0.7718 - val_loss: 0.2623 - val_accuracy: 0.9024\n",
            "Epoch 20/30\n",
            "11/11 [==============================] - 4s 335ms/step - loss: 0.3422 - accuracy: 0.8588 - val_loss: 0.2555 - val_accuracy: 0.8780\n",
            "Epoch 21/30\n",
            "11/11 [==============================] - 4s 338ms/step - loss: 0.3191 - accuracy: 0.8556 - val_loss: 0.1815 - val_accuracy: 0.8780\n",
            "Epoch 22/30\n",
            "11/11 [==============================] - 4s 335ms/step - loss: 0.2400 - accuracy: 0.8987 - val_loss: 0.3195 - val_accuracy: 0.8537\n",
            "Epoch 23/30\n",
            "11/11 [==============================] - 4s 340ms/step - loss: 0.3875 - accuracy: 0.7976 - val_loss: 0.3806 - val_accuracy: 0.8780\n",
            "Epoch 24/30\n",
            "11/11 [==============================] - 4s 336ms/step - loss: 0.3602 - accuracy: 0.8409 - val_loss: 0.2314 - val_accuracy: 0.8780\n",
            "Epoch 25/30\n",
            "11/11 [==============================] - 4s 339ms/step - loss: 0.2230 - accuracy: 0.9142 - val_loss: 0.4079 - val_accuracy: 0.8780\n",
            "Epoch 26/30\n",
            "11/11 [==============================] - 4s 340ms/step - loss: 0.3054 - accuracy: 0.9088 - val_loss: 0.2293 - val_accuracy: 0.8537\n",
            "Epoch 27/30\n",
            "11/11 [==============================] - 4s 340ms/step - loss: 0.4616 - accuracy: 0.8209 - val_loss: 0.3586 - val_accuracy: 0.7805\n",
            "Epoch 28/30\n",
            "11/11 [==============================] - 4s 341ms/step - loss: 0.3430 - accuracy: 0.8108 - val_loss: 0.1969 - val_accuracy: 0.9024\n",
            "Epoch 29/30\n",
            "11/11 [==============================] - 4s 336ms/step - loss: 0.2863 - accuracy: 0.9048 - val_loss: 0.2575 - val_accuracy: 0.8537\n",
            "Epoch 30/30\n",
            "11/11 [==============================] - 4s 335ms/step - loss: 0.4527 - accuracy: 0.8858 - val_loss: 0.2965 - val_accuracy: 0.8537\n"
          ],
          "name": "stdout"
        }
      ]
    },
    {
      "cell_type": "code",
      "metadata": {
        "colab": {
          "base_uri": "https://localhost:8080/",
          "height": 300
        },
        "id": "SQoYAyOq6hJ2",
        "outputId": "b626e589-2f3f-4799-c0da-354976b6a279"
      },
      "source": [
        "plt.plot(history.history['accuracy'], label='accuracy')\n",
        "plt.plot(history.history['val_accuracy'], label = 'val_accuracy')\n",
        "plt.xlabel('Epoch')\n",
        "plt.ylabel('Accuracy')\n",
        "plt.ylim([0, 1])\n",
        "plt.legend(loc='lower right')"
      ],
      "execution_count": null,
      "outputs": [
        {
          "output_type": "execute_result",
          "data": {
            "text/plain": [
              "<matplotlib.legend.Legend at 0x7f7fb656f910>"
            ]
          },
          "metadata": {
            "tags": []
          },
          "execution_count": 23
        },
        {
          "output_type": "display_data",
          "data": {
            "image/png": "[encoded data removed]",
            "text/plain": [
              "<Figure size 432x288 with 1 Axes>"
            ]
          },
          "metadata": {
            "tags": [],
            "needs_background": "light"
          }
        }
      ]
    },
    {
      "cell_type": "code",
      "metadata": {
        "colab": {
          "base_uri": "https://localhost:8080/",
          "height": 300
        },
        "id": "-XIfNKOY7qjd",
        "outputId": "505522d3-dcfb-4a67-9d57-e467cbe0b553"
      },
      "source": [
        "plt.plot(history.history['loss'], label='loss')\n",
        "plt.plot(history.history['val_loss'], label = 'val_loss')\n",
        "plt.xlabel('Epoch')\n",
        "plt.ylabel('Loss')\n",
        "plt.ylim([0,3])\n",
        "plt.legend(loc='upper right')"
      ],
      "execution_count": null,
      "outputs": [
        {
          "output_type": "execute_result",
          "data": {
            "text/plain": [
              "<matplotlib.legend.Legend at 0x7f7f0c2020d0>"
            ]
          },
          "metadata": {
            "tags": []
          },
          "execution_count": 26
        },
        {
          "output_type": "display_data",
          "data": {
            "image/png": "[encoded data removed]",
            "text/plain": [
              "<Figure size 432x288 with 1 Axes>"
            ]
          },
          "metadata": {
            "tags": [],
            "needs_background": "light"
          }
        }
      ]
    },
    {
      "cell_type": "code",
      "metadata": {
        "colab": {
          "base_uri": "https://localhost:8080/"
        },
        "id": "hWEdmBek8aMv",
        "outputId": "0dc32100-7f99-497d-e722-bb1928a4bbaa"
      },
      "source": [
        "!mkdir -p saved_model\n",
        "CNNmodel_aug.save('drive/MyDrive/saved_model/my_model')"
      ],
      "execution_count": null,
      "outputs": [
        {
          "output_type": "stream",
          "text": [
            "INFO:tensorflow:Assets written to: drive/MyDrive/saved_model/my_model/assets\n"
          ],
          "name": "stdout"
        }
      ]
    }
  ]
}